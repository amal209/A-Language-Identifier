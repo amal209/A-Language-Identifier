{
 "cells": [
  {
   "cell_type": "markdown",
   "id": "eb3ccb15",
   "metadata": {},
   "source": [
    "# A Language Identifier"
   ]
  },
  {
   "cell_type": "markdown",
   "id": "ba262d3a",
   "metadata": {},
   "source": [
    "## The architecture of this project is:\n",
    "    - Implementing a pre-trained model\n",
    "    - Deploying the model as an API\n",
    "    - Connecting the API to your main application\n",
    "    \n",
    "We can construct a language identifier with the fastText model by Facebook. \n",
    "The model is an extension of the word2vec tool and uses word embeddings to understand a language."
   ]
  },
  {
   "cell_type": "markdown",
   "id": "bb9b94e7",
   "metadata": {},
   "source": [
    "# About the dataset\n",
    "\n",
    "We are using the Language Detection dataset, which contains text details for 17 different languages.\n",
    "\n",
    "Languages are:\n",
    "English, Portuguese, French, Greek, Dutch, Spanish, Japanese, Russian, Danish, Italian, Turkish, Swedish, Arabic, Malayalam, Hindi , Tamil, Telugu"
   ]
  },
  {
   "cell_type": "code",
   "execution_count": 1,
   "id": "25e2902e",
   "metadata": {},
   "outputs": [],
   "source": [
    "import pandas as pd\n",
    "import numpy as np\n",
    "import re\n",
    "import seaborn as sns\n",
    "import matplotlib.pyplot as plt\n",
    "import warnings\n",
    "warnings.simplefilter(\"ignore\")"
   ]
  },
  {
   "cell_type": "code",
   "execution_count": 2,
   "id": "e14db9b0",
   "metadata": {},
   "outputs": [
    {
     "data": {
      "text/html": [
       "<div>\n",
       "<style scoped>\n",
       "    .dataframe tbody tr th:only-of-type {\n",
       "        vertical-align: middle;\n",
       "    }\n",
       "\n",
       "    .dataframe tbody tr th {\n",
       "        vertical-align: top;\n",
       "    }\n",
       "\n",
       "    .dataframe thead th {\n",
       "        text-align: right;\n",
       "    }\n",
       "</style>\n",
       "<table border=\"1\" class=\"dataframe\">\n",
       "  <thead>\n",
       "    <tr style=\"text-align: right;\">\n",
       "      <th></th>\n",
       "      <th>Text</th>\n",
       "      <th>Language</th>\n",
       "    </tr>\n",
       "  </thead>\n",
       "  <tbody>\n",
       "    <tr>\n",
       "      <th>0</th>\n",
       "      <td>Nature, in the broadest sense, is the natural...</td>\n",
       "      <td>English</td>\n",
       "    </tr>\n",
       "    <tr>\n",
       "      <th>1</th>\n",
       "      <td>\"Nature\" can refer to the phenomena of the phy...</td>\n",
       "      <td>English</td>\n",
       "    </tr>\n",
       "    <tr>\n",
       "      <th>2</th>\n",
       "      <td>The study of nature is a large, if not the onl...</td>\n",
       "      <td>English</td>\n",
       "    </tr>\n",
       "    <tr>\n",
       "      <th>3</th>\n",
       "      <td>Although humans are part of nature, human acti...</td>\n",
       "      <td>English</td>\n",
       "    </tr>\n",
       "    <tr>\n",
       "      <th>4</th>\n",
       "      <td>[1] The word nature is borrowed from the Old F...</td>\n",
       "      <td>English</td>\n",
       "    </tr>\n",
       "    <tr>\n",
       "      <th>...</th>\n",
       "      <td>...</td>\n",
       "      <td>...</td>\n",
       "    </tr>\n",
       "    <tr>\n",
       "      <th>8995</th>\n",
       "      <td>[21] على الرغم من أن ويكيبيديا الإنجليزية وصلت...</td>\n",
       "      <td>Arabic</td>\n",
       "    </tr>\n",
       "    <tr>\n",
       "      <th>8996</th>\n",
       "      <td>[22] تمت إضافة حوالي 1800 مقال يوميًا إلى المو...</td>\n",
       "      <td>Arabic</td>\n",
       "    </tr>\n",
       "    <tr>\n",
       "      <th>8997</th>\n",
       "      <td>[23] عزا فريق في مركز بالو ألتو للأبحاث هذا ال...</td>\n",
       "      <td>Arabic</td>\n",
       "    </tr>\n",
       "    <tr>\n",
       "      <th>8998</th>\n",
       "      <td>[24] يقترح البعض الآخر أن النمو يتم تسويته بشك...</td>\n",
       "      <td>Arabic</td>\n",
       "    </tr>\n",
       "    <tr>\n",
       "      <th>8999</th>\n",
       "      <td>[25][26][27] في نوفمبر 2009، وجد باحث في جامعة...</td>\n",
       "      <td>Arabic</td>\n",
       "    </tr>\n",
       "  </tbody>\n",
       "</table>\n",
       "<p>9000 rows × 2 columns</p>\n",
       "</div>"
      ],
      "text/plain": [
       "                                                   Text Language\n",
       "0      Nature, in the broadest sense, is the natural...  English\n",
       "1     \"Nature\" can refer to the phenomena of the phy...  English\n",
       "2     The study of nature is a large, if not the onl...  English\n",
       "3     Although humans are part of nature, human acti...  English\n",
       "4     [1] The word nature is borrowed from the Old F...  English\n",
       "...                                                 ...      ...\n",
       "8995  [21] على الرغم من أن ويكيبيديا الإنجليزية وصلت...   Arabic\n",
       "8996  [22] تمت إضافة حوالي 1800 مقال يوميًا إلى المو...   Arabic\n",
       "8997  [23] عزا فريق في مركز بالو ألتو للأبحاث هذا ال...   Arabic\n",
       "8998  [24] يقترح البعض الآخر أن النمو يتم تسويته بشك...   Arabic\n",
       "8999  [25][26][27] في نوفمبر 2009، وجد باحث في جامعة...   Arabic\n",
       "\n",
       "[9000 rows x 2 columns]"
      ]
     },
     "execution_count": 2,
     "metadata": {},
     "output_type": "execute_result"
    }
   ],
   "source": [
    "#to import the dataset\n",
    "#data = pd.read_csv(\"Language Detection.csv\")\n",
    "data = pd.read_csv(\"Language Detection.csv\")\n",
    "data.head(9000)"
   ]
  },
  {
   "cell_type": "code",
   "execution_count": 3,
   "id": "64d9b40e",
   "metadata": {},
   "outputs": [
    {
     "data": {
      "text/plain": [
       "English       1385\n",
       "French        1014\n",
       "Spanish        819\n",
       "Portugeese     739\n",
       "Italian        698\n",
       "Russian        692\n",
       "Sweedish       676\n",
       "Malayalam      594\n",
       "Dutch          546\n",
       "Arabic         536\n",
       "Turkish        474\n",
       "German         470\n",
       "Tamil          469\n",
       "Danish         428\n",
       "Kannada        369\n",
       "Greek          365\n",
       "Hindi           63\n",
       "Name: Language, dtype: int64"
      ]
     },
     "execution_count": 3,
     "metadata": {},
     "output_type": "execute_result"
    }
   ],
   "source": [
    "#to count the value of each language\n",
    "data[\"Language\"].value_counts()"
   ]
  },
  {
   "cell_type": "code",
   "execution_count": 4,
   "id": "124e57ef",
   "metadata": {},
   "outputs": [],
   "source": [
    "#Separating Independent and Dependent features\n",
    "x = data['Text']\n",
    "y = data['Language']"
   ]
  },
  {
   "cell_type": "markdown",
   "id": "14bb9f06",
   "metadata": {},
   "source": [
    "## Label Encoding\n",
    "Our output variable, the name of languages is a categorical variable. \n",
    "For training the model we have to convert it into a numerical form,"
   ]
  },
  {
   "cell_type": "code",
   "execution_count": 5,
   "id": "38ccd29f",
   "metadata": {},
   "outputs": [],
   "source": [
    "from sklearn.preprocessing import LabelEncoder\n",
    "le = LabelEncoder()\n",
    "y = le.fit_transform(y)"
   ]
  },
  {
   "cell_type": "markdown",
   "id": "82496457",
   "metadata": {},
   "source": [
    "## Text Preprocessing"
   ]
  },
  {
   "cell_type": "code",
   "execution_count": 6,
   "id": "67a7a60d",
   "metadata": {},
   "outputs": [],
   "source": [
    "# creating a list for appending the preprocessed text\n",
    "data_list = []\n",
    "# iterating through all the text\n",
    "for text in x:\n",
    "       # removing the symbols and numbers\n",
    "        text = re.sub(r'[!@#$(),\"%^*?:;~`0-9]', '', text)\n",
    "        text = re.sub(r'[[]]', ' ', text)\n",
    "        # converting the text to lower case\n",
    "        text = text.lower()\n",
    "        # appending to data_list\n",
    "        data_list.append(text)"
   ]
  },
  {
   "cell_type": "code",
   "execution_count": 7,
   "id": "5d444678",
   "metadata": {},
   "outputs": [
    {
     "name": "stdout",
     "output_type": "stream",
     "text": [
      "0     Nature, in the broadest sense, is the natural...\n",
      "Name: Text, dtype: object\n",
      " nature in the broadest sense is the natural physical material world or universe.\n"
     ]
    }
   ],
   "source": [
    "print(x.head(1))\n",
    "print(data_list[0])"
   ]
  },
  {
   "cell_type": "markdown",
   "id": "d49c6640",
   "metadata": {},
   "source": [
    "## Bag of Words\n",
    "\n",
    "As we all know that, not only the output feature but also the input feature should be of the numerical form. \n",
    "So we are converting text into numerical form by creating a Bag of Words model using CountVectorizer."
   ]
  },
  {
   "cell_type": "code",
   "execution_count": 8,
   "id": "c6b1b57c",
   "metadata": {},
   "outputs": [
    {
     "data": {
      "text/plain": [
       "(10337, 39412)"
      ]
     },
     "execution_count": 8,
     "metadata": {},
     "output_type": "execute_result"
    }
   ],
   "source": [
    "from sklearn.feature_extraction.text import CountVectorizer\n",
    "cv = CountVectorizer()\n",
    "x = cv.fit_transform(data_list).toarray()\n",
    "x.shape "
   ]
  },
  {
   "cell_type": "markdown",
   "id": "dd26101e",
   "metadata": {},
   "source": [
    "## Train Test Splitting"
   ]
  },
  {
   "cell_type": "code",
   "execution_count": 9,
   "id": "f2fbd410",
   "metadata": {},
   "outputs": [],
   "source": [
    "from sklearn.model_selection import train_test_split\n",
    "x_train, x_test, y_train, y_test = train_test_split(x, y, test_size = 0.20)"
   ]
  },
  {
   "cell_type": "markdown",
   "id": "4dc4fbb7",
   "metadata": {},
   "source": [
    "## Model Training and Prediction"
   ]
  },
  {
   "cell_type": "code",
   "execution_count": 10,
   "id": "f8da3e42",
   "metadata": {},
   "outputs": [
    {
     "data": {
      "text/plain": [
       "MultinomialNB()"
      ]
     },
     "execution_count": 10,
     "metadata": {},
     "output_type": "execute_result"
    }
   ],
   "source": [
    "#we're going to use the Naive Bayes algorithm for the model training\n",
    "from sklearn.naive_bayes import MultinomialNB\n",
    "model = MultinomialNB()\n",
    "model.fit(x_train, y_train)"
   ]
  },
  {
   "cell_type": "code",
   "execution_count": 11,
   "id": "b5c89347",
   "metadata": {},
   "outputs": [],
   "source": [
    "# we’ve trained our model using the training set. Now let’s predict the output for the test set.\n",
    "y_pred = model.predict(x_test)"
   ]
  },
  {
   "cell_type": "markdown",
   "id": "ca6e6a6b",
   "metadata": {},
   "source": [
    "## Model Evaluation"
   ]
  },
  {
   "cell_type": "code",
   "execution_count": 12,
   "id": "7bb7efbf",
   "metadata": {},
   "outputs": [
    {
     "name": "stdout",
     "output_type": "stream",
     "text": [
      "Accuracy is : 0.9806576402321083\n"
     ]
    }
   ],
   "source": [
    "from sklearn.metrics import accuracy_score, confusion_matrix, classification_report\n",
    "ac = accuracy_score(y_test, y_pred)\n",
    "cm = confusion_matrix(y_test, y_pred)\n",
    "\n",
    "print(\"Accuracy is :\",ac)"
   ]
  },
  {
   "cell_type": "code",
   "execution_count": 13,
   "id": "98de4e5a",
   "metadata": {},
   "outputs": [
    {
     "data": {
      "image/png": "[encoded data removed]",
      "text/plain": [
       "<Figure size 1080x720 with 2 Axes>"
      ]
     },
     "metadata": {
      "needs_background": "light"
     },
     "output_type": "display_data"
    }
   ],
   "source": [
    "#plot the confusion matrix\n",
    "plt.figure(figsize=(15,10))\n",
    "sns.heatmap(cm, annot = True)\n",
    "plt.show()"
   ]
  },
  {
   "cell_type": "markdown",
   "id": "dac321eb",
   "metadata": {},
   "source": [
    "## Predicting with more data"
   ]
  },
  {
   "cell_type": "code",
   "execution_count": 14,
   "id": "1c525d29",
   "metadata": {},
   "outputs": [],
   "source": [
    "def predict(text):\n",
    "     x = cv.transform([text]).toarray() # converting text to bag of words model (Vector)\n",
    "     lang = model.predict(x) # predicting the language\n",
    "     lang = le.inverse_transform(lang) # finding the language corresponding the the predicted value\n",
    "     print(\"The langauge is in\",lang[0]) # printing the language"
   ]
  },
  {
   "cell_type": "code",
   "execution_count": 18,
   "id": "07d04f5e",
   "metadata": {},
   "outputs": [
    {
     "name": "stdout",
     "output_type": "stream",
     "text": [
      "Enter a text: école\n",
      "The langauge is in French\n"
     ]
    }
   ],
   "source": [
    "t = input(\"Enter a text: \")\n",
    "predict(t)"
   ]
  },
  {
   "cell_type": "code",
   "execution_count": null,
   "id": "8ac0267b",
   "metadata": {},
   "outputs": [],
   "source": []
  },
  {
   "cell_type": "code",
   "execution_count": null,
   "id": "6b24b2ab",
   "metadata": {},
   "outputs": [],
   "source": []
  },
  {
   "cell_type": "code",
   "execution_count": null,
   "id": "8fa60601",
   "metadata": {},
   "outputs": [],
   "source": []
  }
 ],
 "metadata": {
  "kernelspec": {
   "display_name": "Python 3",
   "language": "python",
   "name": "python3"
  },
  "language_info": {
   "codemirror_mode": {
    "name": "ipython",
    "version": 3
   },
   "file_extension": ".py",
   "mimetype": "text/x-python",
   "name": "python",
   "nbconvert_exporter": "python",
   "pygments_lexer": "ipython3",
   "version": "3.8.8"
  }
 },
 "nbformat": 4,
 "nbformat_minor": 5
}
